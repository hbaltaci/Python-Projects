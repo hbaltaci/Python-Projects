{
  "nbformat": 4,
  "nbformat_minor": 0,
  "metadata": {
    "colab": {
      "name": "Armstrong Numbers.ipynb",
      "provenance": [],
      "authorship_tag": "ABX9TyNNV5RteTp+4KJ4IC3pzBmb",
      "include_colab_link": true
    },
    "kernelspec": {
      "name": "python3",
      "display_name": "Python 3"
    },
    "language_info": {
      "name": "python"
    }
  },
  "cells": [
    {
      "cell_type": "markdown",
      "metadata": {
        "id": "view-in-github",
        "colab_type": "text"
      },
      "source": [
        "<a href=\"https://colab.research.google.com/github/hbaltaci/Python-Projects/blob/main/Assignments/Armstrong_Numbers.ipynb\" target=\"_parent\"><img src=\"https://colab.research.google.com/assets/colab-badge.svg\" alt=\"Open In Colab\"/></a>"
      ]
    },
    {
      "cell_type": "code",
      "execution_count": null,
      "metadata": {
        "id": "50p07MzIaG2r"
      },
      "outputs": [],
      "source": [
        "#USING WHILE, IF, AND FOR\n",
        "while True: \n",
        "    number = input(\"please enter a number: \") \n",
        "    try: \n",
        "        num = int(number) \n",
        "        if num < 0:  \n",
        "            print(\"This is an invalid entry. Don't use none-numeric, float or negative values!\") \n",
        "            continue \n",
        "        break \n",
        "    except ValueError: \n",
        "        print(\"This is an invalid entry. Don't use none-numeric, float or negative values!\")   \n",
        "str_num = str(num)\n",
        "len_num = len(str_num)\n",
        "digits_sum = 0\n",
        "for d in str_num:\n",
        "  digits_sum += int(d) ** len_num\n",
        "if num == digits_sum:\n",
        "  print(\"{} is an Armstrong number of order {}\".format(num,len_num))\n",
        "else:\n",
        "  print(\"{} is not an Armstrong number\".format(num))"
      ]
    },
    {
      "cell_type": "code",
      "source": [
        "#USING WHILE AND FOR\n",
        "while True: \n",
        "    number = input(\"please enter a number: \") \n",
        "    try: \n",
        "        num = int(number) \n",
        "        if num < 0: \n",
        "            print(\"This is an invalid entry. Don't use none-numeric, float or negative values!\") \n",
        "            continue \n",
        "        break \n",
        "    except ValueError: \n",
        "        print(\"This is an invalid entry. Don't use none-numeric, float or negative values!\")      \n",
        "times = len(str(num))\n",
        "sum = 0\n",
        "temp = num\n",
        "while temp > 0:\n",
        "  digit = temp % 10\n",
        "  sum += digit ** times\n",
        "  temp //= 10\n",
        "if num == sum:\n",
        "  print(f\"{num} is an Armstrong number of order {times}\")\n",
        "else:\n",
        "  print(num,\"is not an Armstrong number\")"
      ],
      "metadata": {
        "id": "S_XXbN0wb5rs"
      },
      "execution_count": null,
      "outputs": []
    }
  ]
}