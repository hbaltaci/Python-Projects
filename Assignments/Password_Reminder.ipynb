{
  "nbformat": 4,
  "nbformat_minor": 0,
  "metadata": {
    "colab": {
      "name": "Password_Reminder.ipynb",
      "provenance": [],
      "authorship_tag": "ABX9TyMjs2eZyg0Av+p1yDia2rp/",
      "include_colab_link": true
    },
    "kernelspec": {
      "name": "python3",
      "display_name": "Python 3"
    },
    "language_info": {
      "name": "python"
    }
  },
  "cells": [
    {
      "cell_type": "markdown",
      "metadata": {
        "id": "view-in-github",
        "colab_type": "text"
      },
      "source": [
        "<a href=\"https://colab.research.google.com/github/hbaltaci/Python-Projects/blob/main/Assignments/Password_Reminder.ipynb\" target=\"_parent\"><img src=\"https://colab.research.google.com/assets/colab-badge.svg\" alt=\"Open In Colab\"/></a>"
      ]
    },
    {
      "cell_type": "code",
      "execution_count": null,
      "metadata": {
        "id": "Z4hjzNO3PikB"
      },
      "outputs": [],
      "source": [
        "# Python Basics class assignment: write a program that reminds your existing password.\n",
        "pass_dict = {\"Halil\": \"W@12,\"}\n",
        "user_input = input(\"Please enter your first name:\")\n",
        "if user_input.capitalize() in pass_dict:\n",
        "  print(f'Hello {user_input.capitalize()}! Your pasword is: {pass_dict[user_input.capitalize()]}')\n",
        "else:\n",
        "  print(f'\"Hello, {user_input.capitalize()}! See you later. Bye!\"')"
      ]
    }
  ]
}