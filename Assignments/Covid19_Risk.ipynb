{
  "nbformat": 4,
  "nbformat_minor": 0,
  "metadata": {
    "colab": {
      "name": "Covid19_Risk.ipynb",
      "provenance": [],
      "collapsed_sections": [],
      "authorship_tag": "ABX9TyPWyUZYvGQ24O0plSwLlO3Q",
      "include_colab_link": true
    },
    "kernelspec": {
      "name": "python3",
      "display_name": "Python 3"
    },
    "language_info": {
      "name": "python"
    }
  },
  "cells": [
    {
      "cell_type": "markdown",
      "metadata": {
        "id": "view-in-github",
        "colab_type": "text"
      },
      "source": [
        "<a href=\"https://colab.research.google.com/github/hbaltaci/Python-Projects/blob/main/Assignments/Covid19_Risk.ipynb\" target=\"_parent\"><img src=\"https://colab.research.google.com/assets/colab-badge.svg\" alt=\"Open In Colab\"/></a>"
      ]
    },
    {
      "cell_type": "code",
      "source": [
        "age = str.lower(input(\"Are you a cigarette addict older than 75? \"))\n",
        "if age == \"yes\":\n",
        "  age = True\n",
        "else:\n",
        "  age = False\n",
        "chronic = str.lower(input(\"Do you have a severe chronic disease? \"))\n",
        "if chronic == \"yes\":\n",
        "  chronic = True\n",
        "else:\n",
        "  chronic = False\n",
        "immune = str.lower(input(\"Is your immune system is too weak? \"))\n",
        "if immune == \"yes\":\n",
        "  immune = True\n",
        "else:\n",
        "  immune = False\n",
        "if age or chronic or immune:\n",
        "  print('\"You are in a risky group\"')\n",
        "else:\n",
        "  print('\"Relax! You are not in a risky group\"')"
      ],
      "metadata": {
        "id": "SYqukx58uKd6"
      },
      "execution_count": null,
      "outputs": []
    }
  ]
}