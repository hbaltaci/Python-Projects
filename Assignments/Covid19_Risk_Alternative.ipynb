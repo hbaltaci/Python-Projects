{
  "nbformat": 4,
  "nbformat_minor": 0,
  "metadata": {
    "colab": {
      "name": "Covid19_Risk_2.ipynb",
      "provenance": [],
      "collapsed_sections": [],
      "authorship_tag": "ABX9TyMZGO7R39TxwZE8m47U5BTB",
      "include_colab_link": true
    },
    "kernelspec": {
      "name": "python3",
      "display_name": "Python 3"
    },
    "language_info": {
      "name": "python"
    }
  },
  "cells": [
    {
      "cell_type": "markdown",
      "metadata": {
        "id": "view-in-github",
        "colab_type": "text"
      },
      "source": [
        "<a href=\"https://colab.research.google.com/github/hbaltaci/Python-Projects/blob/main/Assignments/Covid19_Risk_Alternative.ipynb\" target=\"_parent\"><img src=\"https://colab.research.google.com/assets/colab-badge.svg\" alt=\"Open In Colab\"/></a>"
      ]
    },
    {
      "cell_type": "code",
      "execution_count": null,
      "metadata": {
        "id": "BWwmzjUl8ddH"
      },
      "outputs": [],
      "source": [
        "#This is alternative solution\n",
        "age = str.lower(input(\"Are you a cigarette addict older than 75? \"))\n",
        "chronic = str.lower(input(\"Do you have a severe chronic disease? \"))\n",
        "immune = str.lower(input(\"Is your immune system is too weak? \"))\n",
        "if age ==\"no\" and chronic ==\"no\" and immune == \"no\":\n",
        "  print('\"Relax! You are not in a risky group\"')\n",
        "else:\n",
        "  print('\"You are in a risky group\"')"
      ]
    }
  ]
}